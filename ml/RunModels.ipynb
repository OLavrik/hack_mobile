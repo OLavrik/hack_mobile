{
 "cells": [
  {
   "cell_type": "code",
   "execution_count": 1,
   "id": "77070c95-5e7b-42da-8038-7ea04b76fcd6",
   "metadata": {},
   "outputs": [],
   "source": [
    "import pandas as pd\n",
    "import pickle\n",
    "with open('../population_dict.pickle', 'rb') as f:\n",
    "    population_dict = pickle.load(f)"
   ]
  },
  {
   "cell_type": "markdown",
   "id": "45fc49cd-0ef8-4c45-8641-7b5ba3e56555",
   "metadata": {},
   "source": [
    "## VK data"
   ]
  },
  {
   "cell_type": "code",
   "execution_count": 9,
   "id": "182c1132-8377-499d-8b11-69382cc327e2",
   "metadata": {},
   "outputs": [],
   "source": [
    "vk=pd.read_csv(\"../vk_dataset.csv\")"
   ]
  },
  {
   "cell_type": "code",
   "execution_count": 15,
   "id": "db25ec70-de9e-4a59-ba1d-433867d9506e",
   "metadata": {},
   "outputs": [
    {
     "data": {
      "text/html": [
       "<div>\n",
       "<style scoped>\n",
       "    .dataframe tbody tr th:only-of-type {\n",
       "        vertical-align: middle;\n",
       "    }\n",
       "\n",
       "    .dataframe tbody tr th {\n",
       "        vertical-align: top;\n",
       "    }\n",
       "\n",
       "    .dataframe thead th {\n",
       "        text-align: right;\n",
       "    }\n",
       "</style>\n",
       "<table border=\"1\" class=\"dataframe\">\n",
       "  <thead>\n",
       "    <tr style=\"text-align: right;\">\n",
       "      <th></th>\n",
       "      <th>phone</th>\n",
       "      <th>sex</th>\n",
       "      <th>region</th>\n",
       "      <th>age</th>\n",
       "      <th>count</th>\n",
       "      <th>population</th>\n",
       "      <th>prob</th>\n",
       "    </tr>\n",
       "  </thead>\n",
       "  <tbody>\n",
       "    <tr>\n",
       "      <th>0</th>\n",
       "      <td>Android high price</td>\n",
       "      <td>man</td>\n",
       "      <td>Москва</td>\n",
       "      <td>0.0</td>\n",
       "      <td>9000</td>\n",
       "      <td>10381222</td>\n",
       "      <td>0.000867</td>\n",
       "    </tr>\n",
       "    <tr>\n",
       "      <th>1</th>\n",
       "      <td>Android high price</td>\n",
       "      <td>woman</td>\n",
       "      <td>Москва</td>\n",
       "      <td>0.0</td>\n",
       "      <td>7900</td>\n",
       "      <td>10381222</td>\n",
       "      <td>0.000761</td>\n",
       "    </tr>\n",
       "    <tr>\n",
       "      <th>2</th>\n",
       "      <td>Android high price</td>\n",
       "      <td>woman</td>\n",
       "      <td>Москва</td>\n",
       "      <td>1.0</td>\n",
       "      <td>13000</td>\n",
       "      <td>10381222</td>\n",
       "      <td>0.001252</td>\n",
       "    </tr>\n",
       "    <tr>\n",
       "      <th>3</th>\n",
       "      <td>Android high price</td>\n",
       "      <td>man</td>\n",
       "      <td>Москва</td>\n",
       "      <td>1.0</td>\n",
       "      <td>28000</td>\n",
       "      <td>10381222</td>\n",
       "      <td>0.002697</td>\n",
       "    </tr>\n",
       "    <tr>\n",
       "      <th>4</th>\n",
       "      <td>Android high price</td>\n",
       "      <td>man</td>\n",
       "      <td>Москва</td>\n",
       "      <td>2.0</td>\n",
       "      <td>34000</td>\n",
       "      <td>10381222</td>\n",
       "      <td>0.003275</td>\n",
       "    </tr>\n",
       "  </tbody>\n",
       "</table>\n",
       "</div>"
      ],
      "text/plain": [
       "               phone     sex  region  age  count  population      prob\n",
       "0  Android high price    man  Москва  0.0   9000    10381222  0.000867\n",
       "1  Android high price  woman  Москва  0.0   7900    10381222  0.000761\n",
       "2  Android high price  woman  Москва  1.0  13000    10381222  0.001252\n",
       "3  Android high price    man  Москва  1.0  28000    10381222  0.002697\n",
       "4  Android high price    man  Москва  2.0  34000    10381222  0.003275"
      ]
     },
     "execution_count": 15,
     "metadata": {},
     "output_type": "execute_result"
    }
   ],
   "source": [
    "vk.head()"
   ]
  },
  {
   "cell_type": "code",
   "execution_count": 11,
   "id": "6e4ec6c5-eeba-4457-a734-3fdb9bda862b",
   "metadata": {},
   "outputs": [
    {
     "name": "stdout",
     "output_type": "stream",
     "text": [
      "<class 'pandas.core.frame.DataFrame'>\n",
      "RangeIndex: 1512 entries, 0 to 1511\n",
      "Data columns (total 5 columns):\n",
      " #   Column  Non-Null Count  Dtype  \n",
      "---  ------  --------------  -----  \n",
      " 0   phone   1512 non-null   object \n",
      " 1   sex     1512 non-null   object \n",
      " 2   region  1512 non-null   object \n",
      " 3   age     1512 non-null   float64\n",
      " 4   count   1512 non-null   int64  \n",
      "dtypes: float64(1), int64(1), object(3)\n",
      "memory usage: 59.2+ KB\n"
     ]
    }
   ],
   "source": [
    "vk.info()"
   ]
  },
  {
   "cell_type": "code",
   "execution_count": 12,
   "id": "b8c296d0-0aaa-43b5-94b1-12b62f1bf1b6",
   "metadata": {},
   "outputs": [],
   "source": [
    "vk[\"population\"]=vk.region.apply(lambda x: population_dict.get(x, -1))"
   ]
  },
  {
   "cell_type": "code",
   "execution_count": 14,
   "id": "1a8bbe8d-9868-4263-9974-824788b1ae32",
   "metadata": {},
   "outputs": [],
   "source": [
    "vk[\"prob\"]=vk.apply(lambda x: int(x[\"count\"])/int(x[\"population\"]) , axis=1)"
   ]
  },
  {
   "cell_type": "code",
   "execution_count": 16,
   "id": "b1d19245-1338-473f-94bd-aee3498f6ab1",
   "metadata": {},
   "outputs": [],
   "source": [
    "vk.to_csv(\"../vk_dataset_new.csv\", index=False)"
   ]
  },
  {
   "cell_type": "markdown",
   "id": "75ba666c-e846-4da5-86e6-c25be940c1d2",
   "metadata": {},
   "source": [
    "## Prepare test data"
   ]
  },
  {
   "cell_type": "code",
   "execution_count": 44,
   "id": "5d535dce-54d9-4116-a8af-911cd77f165d",
   "metadata": {},
   "outputs": [],
   "source": [
    "\n",
    "    \n",
    "\n",
    "\n",
    "def preprocessing_5_test(path):\n",
    "    train = pd.read_csv(path)\n",
    "    \n",
    "    train['shift']=train['shift'].fillna(0)\n",
    "    train['os']=train['shift'].fillna(\"ios\")\n",
    "    train['osv']=train['shift'].fillna(\"10.0\")\n",
    "    \n",
    "    \n",
    "    train[\"data_type\"]=train.apply(lambda x: 1 if ((\"I\" in str(x[\"os\"])) or (\"A\" in str(x[\"os\"]))) else 0 , axis=1)\n",
    "    # train = train.drop(train[train['os'] == \"nan\"].index)\n",
    "    train[\"os\"]=train.apply(lambda x: str(x[\"os\"]).lower().strip() , axis=1)\n",
    "\n",
    "    # train=train.dropna()\n",
    "    # train.loc[train['Segment'] == 1, 'Segment'] = 2\n",
    "    \n",
    "    # train = pd.read_csv('../train.csv')\n",
    "    # train=train.dropna()\n",
    "    train['shift']=train.apply(lambda x: int(float(str(x['shift']).replace(\"MSK\",\"\"))) if str(x['shift']).replace(\"MSK\",\"\")!=\"\" else 0 , axis=1)\n",
    "    train[\"created\"] = pd.to_datetime(train[\"created\"], format='%Y-%m-%d %H:%M:%S', errors='ignore')\n",
    "    train[\"new_created\"]=train.apply(lambda x: x[\"created\"]+pd.Timedelta(hours=x[\"shift\"]) , axis=1)\n",
    "    \n",
    "    train['created_year'] = train[\"created\"].dt.year\n",
    "    train['created_month'] = train[\"created\"].dt.month\n",
    "    train['created_day'] = train[\"created\"].dt.day\n",
    "    train['created_hour'] = train[\"created\"].dt.hour\n",
    "    train['created_minute'] = train[\"created\"].dt.minute\n",
    "    train['created_second'] = train[\"created\"].dt.second\n",
    "    \n",
    "    train['created_year_new'] = train[\"new_created\"].dt.year\n",
    "    train['created_month_new'] = train[\"new_created\"].dt.month\n",
    "    train['created_day_new'] = train[\"new_created\"].dt.day\n",
    "    train['created_hour_new'] = train[\"new_created\"].dt.hour\n",
    "    train['created_minute_new'] = train[\"new_created\"].dt.minute\n",
    "    train['created_second_new'] = train[\"new_created\"].dt.second\n",
    "    \n",
    "    train['day_of_week'] = train.apply(lambda x: x[\"created\"].weekday(), axis=1)\n",
    "    train['day_of_week_new'] = train.apply(lambda x: x[\"new_created\"].weekday(), axis=1)\n",
    "    \n",
    "    train['city_population'] = train.city.apply(lambda x: population_dict.get(x, -1))\n",
    "\n",
    "    del train[\"created\"]\n",
    "    del train[\"new_created\"]\n",
    "    \n",
    "    train[\"bundle\"]=train.apply(lambda x: str(x[\"bundle\"]).lower().strip() , axis=1)\n",
    "\n",
    "    # train['Segment']=train.apply(lambda x: int(x[\"Segment\"]), axis=1)\n",
    "    # train = train.drop_duplicates()\n",
    "    train['city_population'] = train['city_population'].fillna(-1)\n",
    "    for col in train.select_dtypes(include=['object']).columns:\n",
    "        train[col] = train[col].astype('category')\n",
    "    \n",
    "    for col in train.select_dtypes(include=['category']).columns:\n",
    "        train[col] = train[col].cat.codes\n",
    "    return train"
   ]
  },
  {
   "cell_type": "code",
   "execution_count": 45,
   "id": "7fed7acc-9b04-4fa1-a513-04af2189e19c",
   "metadata": {},
   "outputs": [],
   "source": [
    "test=preprocessing_5_test(\"../test.csv\")"
   ]
  },
  {
   "cell_type": "code",
   "execution_count": 78,
   "id": "5800f2af-73e8-4c63-bbba-af4cc3a29021",
   "metadata": {},
   "outputs": [],
   "source": [
    "test.to_csv(\"../test_post.csv\", index=False)"
   ]
  },
  {
   "cell_type": "markdown",
   "id": "e08ee298-8100-4e2c-b1bc-d6770779981f",
   "metadata": {},
   "source": [
    "## Run CatBoost"
   ]
  },
  {
   "cell_type": "code",
   "execution_count": 2,
   "id": "0971d320-26fe-4a75-a8f8-1c35a768e8a1",
   "metadata": {},
   "outputs": [],
   "source": [
    "test=pd.read_csv(\"../test_post.csv\")"
   ]
  },
  {
   "cell_type": "code",
   "execution_count": 79,
   "id": "9c5e0b35-cafb-455c-8065-ec003db5193e",
   "metadata": {},
   "outputs": [
    {
     "data": {
      "text/plain": [
       "<catboost.core.CatBoostClassifier at 0x7f95bd895590>"
      ]
     },
     "execution_count": 79,
     "metadata": {},
     "output_type": "execute_result"
    }
   ],
   "source": [
    "from catboost import CatBoostClassifier\n",
    "model = CatBoostClassifier()\n",
    "model.load_model(\"../notebooks/catboost_5_all\")"
   ]
  },
  {
   "cell_type": "code",
   "execution_count": 80,
   "id": "9d056bee-b334-4919-b27d-3731e1d5e05c",
   "metadata": {},
   "outputs": [],
   "source": [
    "preds_class = model.predict(test)\n",
    "preds_proba = model.predict_proba(test)"
   ]
  },
  {
   "cell_type": "code",
   "execution_count": 85,
   "id": "c1faa27e-d897-4b2f-bc86-c6480eb90bb3",
   "metadata": {},
   "outputs": [],
   "source": [
    "dict_res={\"id\":[], \"predict\":[], \"probability\":[]}\n",
    "for i, cl, prob in zip(range(test.shape[0]),preds_class, preds_proba):\n",
    "    dict_res[\"id\"].append(i)\n",
    "    dict_res[\"predict\"].append(cl[0])\n",
    "    dict_res[\"probability\"].append(prob)\n",
    "            "
   ]
  },
  {
   "cell_type": "code",
   "execution_count": 89,
   "id": "e0ffce17-42ba-46b9-9b19-f9ff2c6d72af",
   "metadata": {},
   "outputs": [],
   "source": [
    "a=pd.DataFrame.from_dict(dict_res)\n",
    "a.to_csv(\"../test_predict.csv\", index=False)"
   ]
  },
  {
   "cell_type": "code",
   "execution_count": null,
   "id": "a3266db5-3731-45b2-9d40-3b99476eb8a2",
   "metadata": {},
   "outputs": [],
   "source": [
    "# Segment\n",
    "# 5    17187506\n",
    "# 3    14187054\n",
    "# 4    11142080\n",
    "# 2     1416245\n",
    "# 1      921631"
   ]
  },
  {
   "cell_type": "code",
   "execution_count": 91,
   "id": "e2331b48-da1e-44ec-8ef4-8cc82ec1534f",
   "metadata": {},
   "outputs": [
    {
     "data": {
      "text/plain": [
       "5    5730414\n",
       "3    5327420\n",
       "4     135804\n",
       "2      19262\n",
       "1        729\n",
       "Name: predict, dtype: int64"
      ]
     },
     "execution_count": 91,
     "metadata": {},
     "output_type": "execute_result"
    }
   ],
   "source": [
    "a[\"predict\"].value_counts()"
   ]
  },
  {
   "cell_type": "markdown",
   "id": "38e4eb2a-74e6-466d-acda-8f1d7916102d",
   "metadata": {},
   "source": [
    "## Run RandomForest"
   ]
  },
  {
   "cell_type": "code",
   "execution_count": 3,
   "id": "2804d2b6-c070-4ea2-b8b5-07b4a9c0d98f",
   "metadata": {},
   "outputs": [],
   "source": [
    "from sklearn.model_selection import cross_validate\n",
    "from sklearn.model_selection import GridSearchCV\n",
    "from sklearn.model_selection import train_test_split\n",
    "from sklearn import ensemble, metrics\n",
    "import xgboost as xgb\n",
    "import numpy as np\n",
    "import pandas as pd\n",
    "import seaborn as sns\n",
    "import matplotlib.pyplot as plt\n",
    "import matplotlib as mpl\n",
    "import warnings\n",
    "from sklearn.model_selection import train_test_split\n",
    "warnings.filterwarnings('ignore')\n",
    "plt.style.use('ggplot')"
   ]
  },
  {
   "cell_type": "code",
   "execution_count": 4,
   "id": "37966bd0-0c7f-4f43-a72c-58d03340392e",
   "metadata": {},
   "outputs": [],
   "source": [
    "model = ensemble.RandomForestClassifier()"
   ]
  },
  {
   "cell_type": "code",
   "execution_count": 5,
   "id": "d1860bd4-598c-4a82-9dd4-45bc18a362a1",
   "metadata": {},
   "outputs": [],
   "source": [
    "import pickle\n",
    "with open('RFC_n_est10_deep50_all', 'rb') as f:\n",
    "        model=pickle.load(f)"
   ]
  },
  {
   "cell_type": "code",
   "execution_count": 6,
   "id": "d764223e-074b-45b8-a3ef-b128492f68c8",
   "metadata": {},
   "outputs": [],
   "source": [
    "t_=test.head()"
   ]
  },
  {
   "cell_type": "code",
   "execution_count": null,
   "id": "a0ba7e6f-9b69-49ba-8227-1ccb214dd98b",
   "metadata": {},
   "outputs": [],
   "source": [
    "Index(['gamecategory', 'subgamecategory', 'bundle', 'shift', 'oblast', 'city',\n",
    "       'os', 'osv', 'created_year', 'created_month', 'created_day',\n",
    "       'created_hour', 'created_minute', 'created_second', 'created_year_new',\n",
    "       'created_month_new', 'created_day_new', 'created_hour_new',\n",
    "       'created_minute_new', 'created_second_new', 'day_of_week',\n",
    "       'day_of_week_new', 'city_population'],\n",
    "      dtype='object')"
   ]
  },
  {
   "cell_type": "code",
   "execution_count": 9,
   "id": "d2e8c93d-3d67-4dfb-a689-9c1c6ae05c1c",
   "metadata": {},
   "outputs": [
    {
     "data": {
      "text/plain": [
       "Index(['gamecategory', 'subgamecategory', 'bundle', 'shift', 'oblast', 'city',\n",
       "       'os', 'osv', 'data_type', 'created_year', 'created_month',\n",
       "       'created_day', 'created_hour', 'created_minute', 'created_second',\n",
       "       'created_year_new', 'created_month_new', 'created_day_new',\n",
       "       'created_hour_new', 'created_minute_new', 'created_second_new',\n",
       "       'day_of_week', 'day_of_week_new', 'city_population'],\n",
       "      dtype='object')"
      ]
     },
     "execution_count": 9,
     "metadata": {},
     "output_type": "execute_result"
    }
   ],
   "source": [
    "t_.columns"
   ]
  },
  {
   "cell_type": "code",
   "execution_count": 8,
   "id": "348df11a-fb44-498e-b412-975b7c9b667a",
   "metadata": {},
   "outputs": [
    {
     "data": {
      "text/html": [
       "<div>\n",
       "<style scoped>\n",
       "    .dataframe tbody tr th:only-of-type {\n",
       "        vertical-align: middle;\n",
       "    }\n",
       "\n",
       "    .dataframe tbody tr th {\n",
       "        vertical-align: top;\n",
       "    }\n",
       "\n",
       "    .dataframe thead th {\n",
       "        text-align: right;\n",
       "    }\n",
       "</style>\n",
       "<table border=\"1\" class=\"dataframe\">\n",
       "  <thead>\n",
       "    <tr style=\"text-align: right;\">\n",
       "      <th></th>\n",
       "      <th>gamecategory</th>\n",
       "      <th>subgamecategory</th>\n",
       "      <th>bundle</th>\n",
       "      <th>shift</th>\n",
       "      <th>oblast</th>\n",
       "      <th>city</th>\n",
       "      <th>os</th>\n",
       "      <th>osv</th>\n",
       "      <th>data_type</th>\n",
       "      <th>created_year</th>\n",
       "      <th>...</th>\n",
       "      <th>created_second</th>\n",
       "      <th>created_year_new</th>\n",
       "      <th>created_month_new</th>\n",
       "      <th>created_day_new</th>\n",
       "      <th>created_hour_new</th>\n",
       "      <th>created_minute_new</th>\n",
       "      <th>created_second_new</th>\n",
       "      <th>day_of_week</th>\n",
       "      <th>day_of_week_new</th>\n",
       "      <th>city_population</th>\n",
       "    </tr>\n",
       "  </thead>\n",
       "  <tbody>\n",
       "    <tr>\n",
       "      <th>0</th>\n",
       "      <td>0</td>\n",
       "      <td>40</td>\n",
       "      <td>11613</td>\n",
       "      <td>2</td>\n",
       "      <td>68</td>\n",
       "      <td>589</td>\n",
       "      <td>3</td>\n",
       "      <td>3</td>\n",
       "      <td>0</td>\n",
       "      <td>2021</td>\n",
       "      <td>...</td>\n",
       "      <td>33</td>\n",
       "      <td>2021</td>\n",
       "      <td>9</td>\n",
       "      <td>19</td>\n",
       "      <td>19</td>\n",
       "      <td>31</td>\n",
       "      <td>33</td>\n",
       "      <td>6</td>\n",
       "      <td>6</td>\n",
       "      <td>1349772.0</td>\n",
       "    </tr>\n",
       "    <tr>\n",
       "      <th>1</th>\n",
       "      <td>-1</td>\n",
       "      <td>-1</td>\n",
       "      <td>16602</td>\n",
       "      <td>2</td>\n",
       "      <td>88</td>\n",
       "      <td>1470</td>\n",
       "      <td>3</td>\n",
       "      <td>3</td>\n",
       "      <td>0</td>\n",
       "      <td>2021</td>\n",
       "      <td>...</td>\n",
       "      <td>17</td>\n",
       "      <td>2021</td>\n",
       "      <td>8</td>\n",
       "      <td>3</td>\n",
       "      <td>19</td>\n",
       "      <td>13</td>\n",
       "      <td>17</td>\n",
       "      <td>1</td>\n",
       "      <td>1</td>\n",
       "      <td>94212.0</td>\n",
       "    </tr>\n",
       "    <tr>\n",
       "      <th>2</th>\n",
       "      <td>-1</td>\n",
       "      <td>-1</td>\n",
       "      <td>2537</td>\n",
       "      <td>0</td>\n",
       "      <td>47</td>\n",
       "      <td>1279</td>\n",
       "      <td>1</td>\n",
       "      <td>1</td>\n",
       "      <td>0</td>\n",
       "      <td>2021</td>\n",
       "      <td>...</td>\n",
       "      <td>0</td>\n",
       "      <td>2021</td>\n",
       "      <td>9</td>\n",
       "      <td>17</td>\n",
       "      <td>15</td>\n",
       "      <td>54</td>\n",
       "      <td>0</td>\n",
       "      <td>4</td>\n",
       "      <td>4</td>\n",
       "      <td>10381222.0</td>\n",
       "    </tr>\n",
       "    <tr>\n",
       "      <th>3</th>\n",
       "      <td>-1</td>\n",
       "      <td>-1</td>\n",
       "      <td>17381</td>\n",
       "      <td>0</td>\n",
       "      <td>35</td>\n",
       "      <td>983</td>\n",
       "      <td>1</td>\n",
       "      <td>1</td>\n",
       "      <td>0</td>\n",
       "      <td>2021</td>\n",
       "      <td>...</td>\n",
       "      <td>59</td>\n",
       "      <td>2021</td>\n",
       "      <td>7</td>\n",
       "      <td>5</td>\n",
       "      <td>23</td>\n",
       "      <td>34</td>\n",
       "      <td>59</td>\n",
       "      <td>0</td>\n",
       "      <td>0</td>\n",
       "      <td>649851.0</td>\n",
       "    </tr>\n",
       "    <tr>\n",
       "      <th>4</th>\n",
       "      <td>0</td>\n",
       "      <td>23</td>\n",
       "      <td>37557</td>\n",
       "      <td>0</td>\n",
       "      <td>73</td>\n",
       "      <td>1312</td>\n",
       "      <td>1</td>\n",
       "      <td>1</td>\n",
       "      <td>0</td>\n",
       "      <td>2021</td>\n",
       "      <td>...</td>\n",
       "      <td>21</td>\n",
       "      <td>2021</td>\n",
       "      <td>7</td>\n",
       "      <td>8</td>\n",
       "      <td>15</td>\n",
       "      <td>15</td>\n",
       "      <td>21</td>\n",
       "      <td>3</td>\n",
       "      <td>3</td>\n",
       "      <td>509870.0</td>\n",
       "    </tr>\n",
       "  </tbody>\n",
       "</table>\n",
       "<p>5 rows × 24 columns</p>\n",
       "</div>"
      ],
      "text/plain": [
       "   gamecategory  subgamecategory  bundle  shift  oblast  city  os  osv  \\\n",
       "0             0               40   11613      2      68   589   3    3   \n",
       "1            -1               -1   16602      2      88  1470   3    3   \n",
       "2            -1               -1    2537      0      47  1279   1    1   \n",
       "3            -1               -1   17381      0      35   983   1    1   \n",
       "4             0               23   37557      0      73  1312   1    1   \n",
       "\n",
       "   data_type  created_year  ...  created_second  created_year_new  \\\n",
       "0          0          2021  ...              33              2021   \n",
       "1          0          2021  ...              17              2021   \n",
       "2          0          2021  ...               0              2021   \n",
       "3          0          2021  ...              59              2021   \n",
       "4          0          2021  ...              21              2021   \n",
       "\n",
       "   created_month_new  created_day_new  created_hour_new  created_minute_new  \\\n",
       "0                  9               19                19                  31   \n",
       "1                  8                3                19                  13   \n",
       "2                  9               17                15                  54   \n",
       "3                  7                5                23                  34   \n",
       "4                  7                8                15                  15   \n",
       "\n",
       "   created_second_new  day_of_week  day_of_week_new  city_population  \n",
       "0                  33            6                6        1349772.0  \n",
       "1                  17            1                1          94212.0  \n",
       "2                   0            4                4       10381222.0  \n",
       "3                  59            0                0         649851.0  \n",
       "4                  21            3                3         509870.0  \n",
       "\n",
       "[5 rows x 24 columns]"
      ]
     },
     "execution_count": 8,
     "metadata": {},
     "output_type": "execute_result"
    }
   ],
   "source": [
    "t_.head()"
   ]
  },
  {
   "cell_type": "code",
   "execution_count": 7,
   "id": "aa9860d8-aef5-48d6-a44d-65027e35d9e4",
   "metadata": {},
   "outputs": [
    {
     "ename": "ValueError",
     "evalue": "X has 24 features, but RandomForestClassifier is expecting 23 features as input.",
     "output_type": "error",
     "traceback": [
      "\u001b[0;31m---------------------------------------------------------------------------\u001b[0m",
      "\u001b[0;31mValueError\u001b[0m                                Traceback (most recent call last)",
      "\u001b[0;32m/tmp/ipykernel_480433/942952038.py\u001b[0m in \u001b[0;36m<module>\u001b[0;34m\u001b[0m\n\u001b[0;32m----> 1\u001b[0;31m \u001b[0mpreds_class\u001b[0m \u001b[0;34m=\u001b[0m \u001b[0mmodel\u001b[0m\u001b[0;34m.\u001b[0m\u001b[0mpredict\u001b[0m\u001b[0;34m(\u001b[0m\u001b[0mt_\u001b[0m\u001b[0;34m)\u001b[0m\u001b[0;34m\u001b[0m\u001b[0;34m\u001b[0m\u001b[0m\n\u001b[0m",
      "\u001b[0;32m~/stuff/anaconda3/envs/hyper-adv/lib/python3.7/site-packages/sklearn/ensemble/_forest.py\u001b[0m in \u001b[0;36mpredict\u001b[0;34m(self, X)\u001b[0m\n\u001b[1;32m    796\u001b[0m             \u001b[0mThe\u001b[0m \u001b[0mpredicted\u001b[0m \u001b[0mclasses\u001b[0m\u001b[0;34m.\u001b[0m\u001b[0;34m\u001b[0m\u001b[0;34m\u001b[0m\u001b[0m\n\u001b[1;32m    797\u001b[0m         \"\"\"\n\u001b[0;32m--> 798\u001b[0;31m         \u001b[0mproba\u001b[0m \u001b[0;34m=\u001b[0m \u001b[0mself\u001b[0m\u001b[0;34m.\u001b[0m\u001b[0mpredict_proba\u001b[0m\u001b[0;34m(\u001b[0m\u001b[0mX\u001b[0m\u001b[0;34m)\u001b[0m\u001b[0;34m\u001b[0m\u001b[0;34m\u001b[0m\u001b[0m\n\u001b[0m\u001b[1;32m    799\u001b[0m \u001b[0;34m\u001b[0m\u001b[0m\n\u001b[1;32m    800\u001b[0m         \u001b[0;32mif\u001b[0m \u001b[0mself\u001b[0m\u001b[0;34m.\u001b[0m\u001b[0mn_outputs_\u001b[0m \u001b[0;34m==\u001b[0m \u001b[0;36m1\u001b[0m\u001b[0;34m:\u001b[0m\u001b[0;34m\u001b[0m\u001b[0;34m\u001b[0m\u001b[0m\n",
      "\u001b[0;32m~/stuff/anaconda3/envs/hyper-adv/lib/python3.7/site-packages/sklearn/ensemble/_forest.py\u001b[0m in \u001b[0;36mpredict_proba\u001b[0;34m(self, X)\u001b[0m\n\u001b[1;32m    838\u001b[0m         \u001b[0mcheck_is_fitted\u001b[0m\u001b[0;34m(\u001b[0m\u001b[0mself\u001b[0m\u001b[0;34m)\u001b[0m\u001b[0;34m\u001b[0m\u001b[0;34m\u001b[0m\u001b[0m\n\u001b[1;32m    839\u001b[0m         \u001b[0;31m# Check data\u001b[0m\u001b[0;34m\u001b[0m\u001b[0;34m\u001b[0m\u001b[0;34m\u001b[0m\u001b[0m\n\u001b[0;32m--> 840\u001b[0;31m         \u001b[0mX\u001b[0m \u001b[0;34m=\u001b[0m \u001b[0mself\u001b[0m\u001b[0;34m.\u001b[0m\u001b[0m_validate_X_predict\u001b[0m\u001b[0;34m(\u001b[0m\u001b[0mX\u001b[0m\u001b[0;34m)\u001b[0m\u001b[0;34m\u001b[0m\u001b[0;34m\u001b[0m\u001b[0m\n\u001b[0m\u001b[1;32m    841\u001b[0m \u001b[0;34m\u001b[0m\u001b[0m\n\u001b[1;32m    842\u001b[0m         \u001b[0;31m# Assign chunk of trees to jobs\u001b[0m\u001b[0;34m\u001b[0m\u001b[0;34m\u001b[0m\u001b[0;34m\u001b[0m\u001b[0m\n",
      "\u001b[0;32m~/stuff/anaconda3/envs/hyper-adv/lib/python3.7/site-packages/sklearn/ensemble/_forest.py\u001b[0m in \u001b[0;36m_validate_X_predict\u001b[0;34m(self, X)\u001b[0m\n\u001b[1;32m    567\u001b[0m         Validate X whenever one tries to predict, apply, predict_proba.\"\"\"\n\u001b[1;32m    568\u001b[0m         \u001b[0mcheck_is_fitted\u001b[0m\u001b[0;34m(\u001b[0m\u001b[0mself\u001b[0m\u001b[0;34m)\u001b[0m\u001b[0;34m\u001b[0m\u001b[0;34m\u001b[0m\u001b[0m\n\u001b[0;32m--> 569\u001b[0;31m         \u001b[0mX\u001b[0m \u001b[0;34m=\u001b[0m \u001b[0mself\u001b[0m\u001b[0;34m.\u001b[0m\u001b[0m_validate_data\u001b[0m\u001b[0;34m(\u001b[0m\u001b[0mX\u001b[0m\u001b[0;34m,\u001b[0m \u001b[0mdtype\u001b[0m\u001b[0;34m=\u001b[0m\u001b[0mDTYPE\u001b[0m\u001b[0;34m,\u001b[0m \u001b[0maccept_sparse\u001b[0m\u001b[0;34m=\u001b[0m\u001b[0;34m\"csr\"\u001b[0m\u001b[0;34m,\u001b[0m \u001b[0mreset\u001b[0m\u001b[0;34m=\u001b[0m\u001b[0;32mFalse\u001b[0m\u001b[0;34m)\u001b[0m\u001b[0;34m\u001b[0m\u001b[0;34m\u001b[0m\u001b[0m\n\u001b[0m\u001b[1;32m    570\u001b[0m         \u001b[0;32mif\u001b[0m \u001b[0missparse\u001b[0m\u001b[0;34m(\u001b[0m\u001b[0mX\u001b[0m\u001b[0;34m)\u001b[0m \u001b[0;32mand\u001b[0m \u001b[0;34m(\u001b[0m\u001b[0mX\u001b[0m\u001b[0;34m.\u001b[0m\u001b[0mindices\u001b[0m\u001b[0;34m.\u001b[0m\u001b[0mdtype\u001b[0m \u001b[0;34m!=\u001b[0m \u001b[0mnp\u001b[0m\u001b[0;34m.\u001b[0m\u001b[0mintc\u001b[0m \u001b[0;32mor\u001b[0m \u001b[0mX\u001b[0m\u001b[0;34m.\u001b[0m\u001b[0mindptr\u001b[0m\u001b[0;34m.\u001b[0m\u001b[0mdtype\u001b[0m \u001b[0;34m!=\u001b[0m \u001b[0mnp\u001b[0m\u001b[0;34m.\u001b[0m\u001b[0mintc\u001b[0m\u001b[0;34m)\u001b[0m\u001b[0;34m:\u001b[0m\u001b[0;34m\u001b[0m\u001b[0;34m\u001b[0m\u001b[0m\n\u001b[1;32m    571\u001b[0m             \u001b[0;32mraise\u001b[0m \u001b[0mValueError\u001b[0m\u001b[0;34m(\u001b[0m\u001b[0;34m\"No support for np.int64 index based sparse matrices\"\u001b[0m\u001b[0;34m)\u001b[0m\u001b[0;34m\u001b[0m\u001b[0;34m\u001b[0m\u001b[0m\n",
      "\u001b[0;32m~/stuff/anaconda3/envs/hyper-adv/lib/python3.7/site-packages/sklearn/base.py\u001b[0m in \u001b[0;36m_validate_data\u001b[0;34m(self, X, y, reset, validate_separately, **check_params)\u001b[0m\n\u001b[1;32m    578\u001b[0m \u001b[0;34m\u001b[0m\u001b[0m\n\u001b[1;32m    579\u001b[0m         \u001b[0;32mif\u001b[0m \u001b[0;32mnot\u001b[0m \u001b[0mno_val_X\u001b[0m \u001b[0;32mand\u001b[0m \u001b[0mcheck_params\u001b[0m\u001b[0;34m.\u001b[0m\u001b[0mget\u001b[0m\u001b[0;34m(\u001b[0m\u001b[0;34m\"ensure_2d\"\u001b[0m\u001b[0;34m,\u001b[0m \u001b[0;32mTrue\u001b[0m\u001b[0;34m)\u001b[0m\u001b[0;34m:\u001b[0m\u001b[0;34m\u001b[0m\u001b[0;34m\u001b[0m\u001b[0m\n\u001b[0;32m--> 580\u001b[0;31m             \u001b[0mself\u001b[0m\u001b[0;34m.\u001b[0m\u001b[0m_check_n_features\u001b[0m\u001b[0;34m(\u001b[0m\u001b[0mX\u001b[0m\u001b[0;34m,\u001b[0m \u001b[0mreset\u001b[0m\u001b[0;34m=\u001b[0m\u001b[0mreset\u001b[0m\u001b[0;34m)\u001b[0m\u001b[0;34m\u001b[0m\u001b[0;34m\u001b[0m\u001b[0m\n\u001b[0m\u001b[1;32m    581\u001b[0m \u001b[0;34m\u001b[0m\u001b[0m\n\u001b[1;32m    582\u001b[0m         \u001b[0;32mreturn\u001b[0m \u001b[0mout\u001b[0m\u001b[0;34m\u001b[0m\u001b[0;34m\u001b[0m\u001b[0m\n",
      "\u001b[0;32m~/stuff/anaconda3/envs/hyper-adv/lib/python3.7/site-packages/sklearn/base.py\u001b[0m in \u001b[0;36m_check_n_features\u001b[0;34m(self, X, reset)\u001b[0m\n\u001b[1;32m    394\u001b[0m         \u001b[0;32mif\u001b[0m \u001b[0mn_features\u001b[0m \u001b[0;34m!=\u001b[0m \u001b[0mself\u001b[0m\u001b[0;34m.\u001b[0m\u001b[0mn_features_in_\u001b[0m\u001b[0;34m:\u001b[0m\u001b[0;34m\u001b[0m\u001b[0;34m\u001b[0m\u001b[0m\n\u001b[1;32m    395\u001b[0m             raise ValueError(\n\u001b[0;32m--> 396\u001b[0;31m                 \u001b[0;34mf\"X has {n_features} features, but {self.__class__.__name__} \"\u001b[0m\u001b[0;34m\u001b[0m\u001b[0;34m\u001b[0m\u001b[0m\n\u001b[0m\u001b[1;32m    397\u001b[0m                 \u001b[0;34mf\"is expecting {self.n_features_in_} features as input.\"\u001b[0m\u001b[0;34m\u001b[0m\u001b[0;34m\u001b[0m\u001b[0m\n\u001b[1;32m    398\u001b[0m             )\n",
      "\u001b[0;31mValueError\u001b[0m: X has 24 features, but RandomForestClassifier is expecting 23 features as input."
     ]
    }
   ],
   "source": [
    "preds_class = model.predict(t_)"
   ]
  },
  {
   "cell_type": "code",
   "execution_count": null,
   "id": "ea04ddec-b033-4d03-8e7d-52523efdaa52",
   "metadata": {},
   "outputs": [],
   "source": [
    "preds_class"
   ]
  },
  {
   "cell_type": "code",
   "execution_count": null,
   "id": "9c869572-265b-4a84-958c-796421d6d49b",
   "metadata": {},
   "outputs": [],
   "source": [
    "dict_res={\"id\":[], \"predict\":[]}\n",
    "for i, cl, prob in zip(range(test.shape[0]),preds_class):\n",
    "    dict_res[\"id\"].append(i)\n",
    "    dict_res[\"predict\"].append(cl[0])"
   ]
  },
  {
   "cell_type": "code",
   "execution_count": null,
   "id": "bfb055e8-3947-4cc7-9e1a-0ccd5a8185fe",
   "metadata": {},
   "outputs": [],
   "source": [
    "a[\"predict\"].value_counts()"
   ]
  },
  {
   "cell_type": "code",
   "execution_count": null,
   "id": "1687b327-e1b2-4713-890a-563d8b8c8471",
   "metadata": {},
   "outputs": [],
   "source": [
    "a=pd.DataFrame.from_dict(dict_res)\n",
    "a.to_csv(\"../test_predict.csv\", index=False)"
   ]
  }
 ],
 "metadata": {
  "kernelspec": {
   "display_name": "hyper-adv",
   "language": "python",
   "name": "hyper-adv"
  },
  "language_info": {
   "codemirror_mode": {
    "name": "ipython",
    "version": 3
   },
   "file_extension": ".py",
   "mimetype": "text/x-python",
   "name": "python",
   "nbconvert_exporter": "python",
   "pygments_lexer": "ipython3",
   "version": "3.7.11"
  }
 },
 "nbformat": 4,
 "nbformat_minor": 5
}
